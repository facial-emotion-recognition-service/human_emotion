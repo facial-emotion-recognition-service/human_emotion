{
 "cells": [
  {
   "cell_type": "code",
   "execution_count": 12,
   "id": "a6205bf6-0bb9-4568-964d-3f9986f6a09d",
   "metadata": {
    "execution": {
     "iopub.execute_input": "2023-05-12T18:30:36.503513Z",
     "iopub.status.busy": "2023-05-12T18:30:36.500503Z",
     "iopub.status.idle": "2023-05-12T18:30:36.748353Z",
     "shell.execute_reply": "2023-05-12T18:30:36.747459Z",
     "shell.execute_reply.started": "2023-05-12T18:30:36.503412Z"
    },
    "tags": []
   },
   "outputs": [],
   "source": [
    "import os\n",
    "import pathlib\n",
    "\n",
    "import pandas as pd\n",
    "from PIL import Image"
   ]
  },
  {
   "cell_type": "code",
   "execution_count": 18,
   "id": "e8280b8b-fabb-46b9-9a00-37f195fd0a35",
   "metadata": {
    "execution": {
     "iopub.execute_input": "2023-05-12T18:45:17.116531Z",
     "iopub.status.busy": "2023-05-12T18:45:17.115942Z",
     "iopub.status.idle": "2023-05-12T18:45:19.267515Z",
     "shell.execute_reply": "2023-05-12T18:45:19.267223Z",
     "shell.execute_reply.started": "2023-05-12T18:45:17.116504Z"
    },
    "tags": []
   },
   "outputs": [
    {
     "data": {
      "text/html": [
       "<div>\n",
       "<style scoped>\n",
       "    .dataframe tbody tr th:only-of-type {\n",
       "        vertical-align: middle;\n",
       "    }\n",
       "\n",
       "    .dataframe tbody tr th {\n",
       "        vertical-align: top;\n",
       "    }\n",
       "\n",
       "    .dataframe thead th {\n",
       "        text-align: right;\n",
       "    }\n",
       "</style>\n",
       "<table border=\"1\" class=\"dataframe\">\n",
       "  <thead>\n",
       "    <tr style=\"text-align: right;\">\n",
       "      <th></th>\n",
       "      <th>emotion</th>\n",
       "      <th>pixels</th>\n",
       "      <th>Usage</th>\n",
       "    </tr>\n",
       "  </thead>\n",
       "  <tbody>\n",
       "    <tr>\n",
       "      <th>0</th>\n",
       "      <td>0</td>\n",
       "      <td>70 80 82 72 58 58 60 63 54 58 60 48 89 115 121...</td>\n",
       "      <td>Training</td>\n",
       "    </tr>\n",
       "    <tr>\n",
       "      <th>1</th>\n",
       "      <td>0</td>\n",
       "      <td>151 150 147 155 148 133 111 140 170 174 182 15...</td>\n",
       "      <td>Training</td>\n",
       "    </tr>\n",
       "    <tr>\n",
       "      <th>2</th>\n",
       "      <td>2</td>\n",
       "      <td>231 212 156 164 174 138 161 173 182 200 106 38...</td>\n",
       "      <td>Training</td>\n",
       "    </tr>\n",
       "    <tr>\n",
       "      <th>3</th>\n",
       "      <td>4</td>\n",
       "      <td>24 32 36 30 32 23 19 20 30 41 21 22 32 34 21 1...</td>\n",
       "      <td>Training</td>\n",
       "    </tr>\n",
       "    <tr>\n",
       "      <th>4</th>\n",
       "      <td>6</td>\n",
       "      <td>4 0 0 0 0 0 0 0 0 0 0 0 3 15 23 28 48 50 58 84...</td>\n",
       "      <td>Training</td>\n",
       "    </tr>\n",
       "    <tr>\n",
       "      <th>5</th>\n",
       "      <td>2</td>\n",
       "      <td>55 55 55 55 55 54 60 68 54 85 151 163 170 179 ...</td>\n",
       "      <td>Training</td>\n",
       "    </tr>\n",
       "    <tr>\n",
       "      <th>6</th>\n",
       "      <td>4</td>\n",
       "      <td>20 17 19 21 25 38 42 42 46 54 56 62 63 66 82 1...</td>\n",
       "      <td>Training</td>\n",
       "    </tr>\n",
       "    <tr>\n",
       "      <th>7</th>\n",
       "      <td>3</td>\n",
       "      <td>77 78 79 79 78 75 60 55 47 48 58 73 77 79 57 5...</td>\n",
       "      <td>Training</td>\n",
       "    </tr>\n",
       "    <tr>\n",
       "      <th>8</th>\n",
       "      <td>3</td>\n",
       "      <td>85 84 90 121 101 102 133 153 153 169 177 189 1...</td>\n",
       "      <td>Training</td>\n",
       "    </tr>\n",
       "    <tr>\n",
       "      <th>9</th>\n",
       "      <td>2</td>\n",
       "      <td>255 254 255 254 254 179 122 107 95 124 149 150...</td>\n",
       "      <td>Training</td>\n",
       "    </tr>\n",
       "  </tbody>\n",
       "</table>\n",
       "</div>"
      ],
      "text/plain": [
       "   emotion                                             pixels     Usage\n",
       "0        0  70 80 82 72 58 58 60 63 54 58 60 48 89 115 121...  Training\n",
       "1        0  151 150 147 155 148 133 111 140 170 174 182 15...  Training\n",
       "2        2  231 212 156 164 174 138 161 173 182 200 106 38...  Training\n",
       "3        4  24 32 36 30 32 23 19 20 30 41 21 22 32 34 21 1...  Training\n",
       "4        6  4 0 0 0 0 0 0 0 0 0 0 0 3 15 23 28 48 50 58 84...  Training\n",
       "5        2  55 55 55 55 55 54 60 68 54 85 151 163 170 179 ...  Training\n",
       "6        4  20 17 19 21 25 38 42 42 46 54 56 62 63 66 82 1...  Training\n",
       "7        3  77 78 79 79 78 75 60 55 47 48 58 73 77 79 57 5...  Training\n",
       "8        3  85 84 90 121 101 102 133 153 153 169 177 189 1...  Training\n",
       "9        2  255 254 255 254 254 179 122 107 95 124 149 150...  Training"
      ]
     },
     "execution_count": 18,
     "metadata": {},
     "output_type": "execute_result"
    }
   ],
   "source": [
    "cwd = os.getcwd()\n",
    "data_path = pathlib.Path(cwd, \"..\", \"raw_data_fer2013\")\n",
    "\n",
    "df = pd.read_csv(pathlib.Path(data_path, \"fer2013.csv\"), sep=\",\")\n",
    "df.head(10)"
   ]
  },
  {
   "cell_type": "code",
   "execution_count": 19,
   "id": "e789270c-f3cf-4267-bc7b-eff9c6bfe148",
   "metadata": {
    "execution": {
     "iopub.execute_input": "2023-05-12T18:46:36.461885Z",
     "iopub.status.busy": "2023-05-12T18:46:36.461099Z",
     "iopub.status.idle": "2023-05-12T18:46:36.470279Z",
     "shell.execute_reply": "2023-05-12T18:46:36.469266Z",
     "shell.execute_reply.started": "2023-05-12T18:46:36.461845Z"
    },
    "tags": []
   },
   "outputs": [],
   "source": [
    "id_to_emo_dict = {\n",
    "    0: \"anger\",\n",
    "    1: \"disgust\",\n",
    "    2: \"fear\",\n",
    "    3: \"happiness\",\n",
    "    4: \"sadness\",\n",
    "    5: \"surprise\",\n",
    "    6: \"neutrality\",\n",
    "}"
   ]
  },
  {
   "cell_type": "code",
   "execution_count": 21,
   "id": "ee90ce86-982f-4943-85c0-ddb24183fb95",
   "metadata": {
    "execution": {
     "iopub.execute_input": "2023-05-12T18:48:07.671910Z",
     "iopub.status.busy": "2023-05-12T18:48:07.670942Z",
     "iopub.status.idle": "2023-05-12T18:48:23.504108Z",
     "shell.execute_reply": "2023-05-12T18:48:23.503806Z",
     "shell.execute_reply.started": "2023-05-12T18:48:07.671863Z"
    },
    "tags": []
   },
   "outputs": [],
   "source": [
    "for idx, row in df.iterrows():\n",
    "    # create a new Image object with mode 'L' for grayscale\n",
    "    img = Image.new(\"L\", (48, 48))\n",
    "\n",
    "    # set the pixel values from the given list\n",
    "    img.putdata(list(map(int, row.pixels.split(\" \"))))\n",
    "\n",
    "    # save the image as PNG file\n",
    "    img.save(pathlib.Path(data_path, id_to_emo_dict[row.emotion], f\"{idx}.png\"), )"
   ]
  }
 ],
 "metadata": {
  "kernelspec": {
   "display_name": "Python 3 (ipykernel)",
   "language": "python",
   "name": "python3"
  },
  "language_info": {
   "codemirror_mode": {
    "name": "ipython",
    "version": 3
   },
   "file_extension": ".py",
   "mimetype": "text/x-python",
   "name": "python",
   "nbconvert_exporter": "python",
   "pygments_lexer": "ipython3",
   "version": "3.10.6"
  }
 },
 "nbformat": 4,
 "nbformat_minor": 5
}
