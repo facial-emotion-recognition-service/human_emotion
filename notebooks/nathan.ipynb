{
 "cells": [
  {
   "cell_type": "markdown",
   "metadata": {},
   "source": [
    "Imports"
   ]
  },
  {
   "cell_type": "code",
   "execution_count": 18,
   "metadata": {},
   "outputs": [],
   "source": [
    "import os \n",
    "import pandas as pd\n",
    "import numpy as np \n",
    "from PIL import Image\n",
    "import tensorflow as tf"
   ]
  },
  {
   "cell_type": "markdown",
   "metadata": {},
   "source": [
    "Build our X and y with all the data we need "
   ]
  },
  {
   "cell_type": "code",
   "execution_count": 2,
   "metadata": {},
   "outputs": [],
   "source": [
    "directory = '../raw_data/faces/' \n",
    "folders = [x[0] for x in os.walk(directory)][1:]  #ignore the first folder which is the root dir"
   ]
  },
  {
   "cell_type": "code",
   "execution_count": 75,
   "metadata": {},
   "outputs": [
    {
     "ename": "NameError",
     "evalue": "name 'dups' is not defined",
     "output_type": "error",
     "traceback": [
      "\u001b[0;31m---------------------------------------------------------------------------\u001b[0m",
      "\u001b[0;31mNameError\u001b[0m                                 Traceback (most recent call last)",
      "Cell \u001b[0;32mIn[75], line 10\u001b[0m\n\u001b[1;32m      1\u001b[0m emotions \u001b[38;5;241m=\u001b[39m {\u001b[38;5;124m'\u001b[39m\u001b[38;5;124manger\u001b[39m\u001b[38;5;124m'\u001b[39m: \u001b[38;5;241m0\u001b[39m, \n\u001b[1;32m      2\u001b[0m             \u001b[38;5;124m'\u001b[39m\u001b[38;5;124mcontempt\u001b[39m\u001b[38;5;124m'\u001b[39m: \u001b[38;5;241m1\u001b[39m, \n\u001b[1;32m      3\u001b[0m             \u001b[38;5;124m'\u001b[39m\u001b[38;5;124mdisgust\u001b[39m\u001b[38;5;124m'\u001b[39m: \u001b[38;5;241m2\u001b[39m,\n\u001b[0;32m   (...)\u001b[0m\n\u001b[1;32m      7\u001b[0m             \u001b[38;5;124m'\u001b[39m\u001b[38;5;124msadness\u001b[39m\u001b[38;5;124m'\u001b[39m: \u001b[38;5;241m6\u001b[39m, \n\u001b[1;32m      8\u001b[0m             \u001b[38;5;124m'\u001b[39m\u001b[38;5;124msurprise\u001b[39m\u001b[38;5;124m'\u001b[39m: \u001b[38;5;241m7\u001b[39m}\n\u001b[0;32m---> 10\u001b[0m \u001b[43mdups\u001b[49m\n",
      "\u001b[0;31mNameError\u001b[0m: name 'dups' is not defined"
     ]
    }
   ],
   "source": [
    "emotions = {'anger': 0, \n",
    "            'contempt': 1, \n",
    "            'disgust': 2,\n",
    "            'fear': 3,\n",
    "            'happiness': 4,\n",
    "            'neutrality': 5,\n",
    "            'sadness': 6, \n",
    "            'surprise': 7}"
   ]
  },
  {
   "cell_type": "code",
   "execution_count": 89,
   "metadata": {},
   "outputs": [],
   "source": [
    "from tensorflow.keras.utils import to_categorical\n",
    "\n",
    "data = []\n",
    "emotions_enum = []\n",
    "for folder in folders: \n",
    "    for filename in os.listdir(folder): \n",
    "        emotion = os.path.basename(folder) #get folder name \n",
    "        f = os.path.join(folder, filename)\n",
    "        data.append([f, filename, emotions[emotion]])\n",
    "    "
   ]
  },
  {
   "cell_type": "code",
   "execution_count": 90,
   "metadata": {},
   "outputs": [],
   "source": [
    "df = pd.DataFrame(data, columns=('path','file_name', 'emotion'))\n",
    "df = df.drop_duplicates(subset = ['file_name'], keep=False)\n",
    "files = list(df['path'])\n",
    "labels = list(df['emotion'])"
   ]
  },
  {
   "cell_type": "code",
   "execution_count": 91,
   "metadata": {},
   "outputs": [],
   "source": [
    "ims = []\n",
    "\n",
    "for f in files:\n",
    "    if os.path.isfile(f):\n",
    "        im = Image.open(f)\n",
    "        im = np.expand_dims(np.array(im), axis=2)\n",
    "        ims.append(im)"
   ]
  },
  {
   "cell_type": "code",
   "execution_count": 92,
   "metadata": {},
   "outputs": [],
   "source": [
    "num_classes = len(set(labels))\n",
    "y = to_categorical(labels, num_classes)\n",
    "X = np.array(ims)\n",
    "p = np.random.permutation(len(X))\n",
    "X, y = X[p], y[p]\n",
    "\n",
    "first_split = int(len(X) /6.)\n",
    "second_split = first_split + int(len(X) * 0.2)\n",
    "X_test, X_val, X_train = X[:first_split], X[first_split:second_split], X[second_split:]\n",
    "y_test, y_val, y_train = y[:first_split], y[first_split:second_split], y[second_split:]"
   ]
  },
  {
   "cell_type": "code",
   "execution_count": 94,
   "metadata": {},
   "outputs": [
    {
     "data": {
      "text/plain": [
       "(851, 224, 224, 1)"
      ]
     },
     "execution_count": 94,
     "metadata": {},
     "output_type": "execute_result"
    }
   ],
   "source": [
    "X_test.shape"
   ]
  },
  {
   "cell_type": "code",
   "execution_count": 95,
   "metadata": {},
   "outputs": [],
   "source": [
    "from tensorflow.keras import Sequential, layers\n",
    "from tensorflow.keras import optimizers\n",
    "from tensorflow.keras.callbacks import EarlyStopping\n",
    "from tensorflow.keras.layers.experimental.preprocessing import Rescaling\n",
    "\n",
    "def load_model():\n",
    "\n",
    "    model = Sequential()\n",
    "\n",
    "    model.add(layers.Conv2D(16, kernel_size=10, activation='relu', input_shape=(224, 224, 1)))\n",
    "    model.add(layers.MaxPooling2D(3))\n",
    "    \n",
    "    model.add(layers.Conv2D(32, kernel_size=8, activation=\"relu\"))\n",
    "    model.add(layers.MaxPooling2D(3))\n",
    "\n",
    "    model.add(layers.Conv2D(32, kernel_size=6, activation=\"relu\"))\n",
    "    model.add(layers.MaxPooling2D(3))\n",
    "    \n",
    "    model.add(layers.Flatten())\n",
    "    model.add(layers.Dense(100, activation='relu'))\n",
    "    model.add(layers.Dense(8, activation='softmax'))\n",
    "    \n",
    "    opt = optimizers.Adam(learning_rate=1e-4)\n",
    "    model.compile(loss='categorical_crossentropy',\n",
    "                  optimizer=opt,\n",
    "                  metrics=['accuracy'])\n",
    "    \n",
    "    return model"
   ]
  },
  {
   "cell_type": "code",
   "execution_count": 71,
   "metadata": {},
   "outputs": [
    {
     "name": "stdout",
     "output_type": "stream",
     "text": [
      "Model: \"sequential_11\"\n",
      "_________________________________________________________________\n",
      " Layer (type)                Output Shape              Param #   \n",
      "=================================================================\n",
      " conv2d_19 (Conv2D)          (None, 215, 215, 16)      1616      \n",
      "                                                                 \n",
      " max_pooling2d_12 (MaxPoolin  (None, 71, 71, 16)       0         \n",
      " g2D)                                                            \n",
      "                                                                 \n",
      " conv2d_20 (Conv2D)          (None, 64, 64, 32)        32800     \n",
      "                                                                 \n",
      " max_pooling2d_13 (MaxPoolin  (None, 21, 21, 32)       0         \n",
      " g2D)                                                            \n",
      "                                                                 \n",
      " conv2d_21 (Conv2D)          (None, 16, 16, 32)        36896     \n",
      "                                                                 \n",
      " max_pooling2d_14 (MaxPoolin  (None, 5, 5, 32)         0         \n",
      " g2D)                                                            \n",
      "                                                                 \n",
      " flatten_4 (Flatten)         (None, 800)               0         \n",
      "                                                                 \n",
      " dense_8 (Dense)             (None, 100)               80100     \n",
      "                                                                 \n",
      " dense_9 (Dense)             (None, 8)                 808       \n",
      "                                                                 \n",
      "=================================================================\n",
      "Total params: 152,220\n",
      "Trainable params: 152,220\n",
      "Non-trainable params: 0\n",
      "_________________________________________________________________\n"
     ]
    }
   ],
   "source": [
    "model_ = load_model()\n",
    "model_.summary()"
   ]
  },
  {
   "cell_type": "code",
   "execution_count": 96,
   "metadata": {},
   "outputs": [
    {
     "name": "stdout",
     "output_type": "stream",
     "text": [
      "Epoch 1/100\n",
      "203/203 [==============================] - 33s 160ms/step - loss: 0.9846 - accuracy: 0.7213 - val_loss: 1.0740 - val_accuracy: 0.6742\n",
      "Epoch 2/100\n",
      "203/203 [==============================] - 51s 249ms/step - loss: 0.5699 - accuracy: 0.8214 - val_loss: 0.7146 - val_accuracy: 0.7975\n",
      "Epoch 3/100\n",
      "203/203 [==============================] - 43s 212ms/step - loss: 0.3767 - accuracy: 0.8854 - val_loss: 0.6544 - val_accuracy: 0.8236\n",
      "Epoch 4/100\n",
      "203/203 [==============================] - 48s 236ms/step - loss: 0.2739 - accuracy: 0.9184 - val_loss: 0.6578 - val_accuracy: 0.8290\n",
      "Epoch 5/100\n",
      "203/203 [==============================] - 32s 159ms/step - loss: 0.1777 - accuracy: 0.9509 - val_loss: 0.6448 - val_accuracy: 0.8479\n",
      "Epoch 6/100\n",
      "203/203 [==============================] - 46s 228ms/step - loss: 0.1328 - accuracy: 0.9710 - val_loss: 0.6572 - val_accuracy: 0.8443\n",
      "Epoch 7/100\n",
      "203/203 [==============================] - 34s 166ms/step - loss: 0.1079 - accuracy: 0.9759 - val_loss: 0.5478 - val_accuracy: 0.8713\n",
      "Epoch 8/100\n",
      "203/203 [==============================] - 30s 147ms/step - loss: 0.0999 - accuracy: 0.9774 - val_loss: 0.6900 - val_accuracy: 0.8416\n",
      "Epoch 9/100\n",
      "203/203 [==============================] - 49s 244ms/step - loss: 0.1110 - accuracy: 0.9759 - val_loss: 0.6653 - val_accuracy: 0.8398\n",
      "Epoch 10/100\n",
      "203/203 [==============================] - 49s 241ms/step - loss: 0.0738 - accuracy: 0.9867 - val_loss: 0.7531 - val_accuracy: 0.8416\n",
      "Epoch 11/100\n",
      "203/203 [==============================] - 52s 255ms/step - loss: 0.0706 - accuracy: 0.9910 - val_loss: 0.6407 - val_accuracy: 0.8587\n",
      "Epoch 12/100\n",
      "202/203 [============================>.] - ETA: 0s - loss: 0.0739 - accuracy: 0.9858Restoring model weights from the end of the best epoch: 7.\n",
      "203/203 [==============================] - 44s 216ms/step - loss: 0.0739 - accuracy: 0.9858 - val_loss: 0.7637 - val_accuracy: 0.8308\n",
      "Epoch 12: early stopping\n"
     ]
    }
   ],
   "source": [
    "es = EarlyStopping(monitor = 'val_accuracy', \n",
    "                   mode = 'max', \n",
    "                   patience = 5, \n",
    "                   verbose = 1, \n",
    "                   restore_best_weights = True)\n",
    "\n",
    "history = model_.fit(X_train, y_train,\n",
    "                             validation_data = (X_val, y_val),\n",
    "                             batch_size = 16, \n",
    "                             epochs = 100, \n",
    "                             callbacks=[es])"
   ]
  },
  {
   "cell_type": "code",
   "execution_count": 97,
   "metadata": {},
   "outputs": [
    {
     "name": "stdout",
     "output_type": "stream",
     "text": [
      "27/27 [==============================] - 2s 57ms/step - loss: 1.0327 - accuracy: 0.7685\n"
     ]
    },
    {
     "data": {
      "text/plain": [
       "[1.032728672027588, 0.7685076594352722]"
      ]
     },
     "execution_count": 97,
     "metadata": {},
     "output_type": "execute_result"
    }
   ],
   "source": [
    "model_.evaluate(X_test, y_test)"
   ]
  },
  {
   "cell_type": "code",
   "execution_count": null,
   "metadata": {},
   "outputs": [],
   "source": []
  }
 ],
 "metadata": {
  "kernelspec": {
   "display_name": "Python 3 (ipykernel)",
   "language": "python",
   "name": "python3"
  },
  "language_info": {
   "codemirror_mode": {
    "name": "ipython",
    "version": 3
   },
   "file_extension": ".py",
   "mimetype": "text/x-python",
   "name": "python",
   "nbconvert_exporter": "python",
   "pygments_lexer": "ipython3",
   "version": "3.8.13"
  },
  "toc": {
   "base_numbering": 1,
   "nav_menu": {},
   "number_sections": true,
   "sideBar": true,
   "skip_h1_title": false,
   "title_cell": "Table of Contents",
   "title_sidebar": "Contents",
   "toc_cell": false,
   "toc_position": {},
   "toc_section_display": true,
   "toc_window_display": false
  },
  "vscode": {
   "interpreter": {
    "hash": "fa51865075f8a67c5bde1eaa865fdabb8d405be7013883ef1eed9897620c6db8"
   }
  }
 },
 "nbformat": 4,
 "nbformat_minor": 2
}
