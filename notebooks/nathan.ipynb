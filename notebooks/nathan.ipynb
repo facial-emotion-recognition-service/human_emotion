{
 "cells": [
  {
   "cell_type": "markdown",
   "metadata": {},
   "source": [
    "Imports"
   ]
  },
  {
   "cell_type": "code",
   "execution_count": 27,
   "metadata": {},
   "outputs": [],
   "source": [
    "import os \n",
    "import pandas as pd\n",
    "from PIL import Image"
   ]
  },
  {
   "cell_type": "markdown",
   "metadata": {},
   "source": [
    "Build array with all the data we need "
   ]
  },
  {
   "cell_type": "code",
   "execution_count": 4,
   "metadata": {},
   "outputs": [],
   "source": [
    "directory = '../raw_data/faces/' \n",
    "folders = [x[0] for x in os.walk(directory)][1:]  #ignore the first folder which is the root dir"
   ]
  },
  {
   "cell_type": "code",
   "execution_count": 39,
   "metadata": {},
   "outputs": [],
   "source": [
    "files = []\n",
    "for folder in folders: \n",
    "    for filename in os.listdir(folder): \n",
    "        emotion = os.path.basename(folder) #get folder name \n",
    "        f = os.path.join(folder, filename)\n",
    "        # checking if it is a file\n",
    "        if os.path.isfile(f):\n",
    "            files.append([emotion,f])"
   ]
  },
  {
   "cell_type": "code",
   "execution_count": 40,
   "metadata": {},
   "outputs": [],
   "source": [
    "emotions = {'anger': 0, \n",
    "            'contempt': 1, \n",
    "            'disgust': 2,\n",
    "            'fear': 3,\n",
    "            'happiness': 4,\n",
    "            'neutrality': 5,\n",
    "            'sadness': 6, \n",
    "            'surprise': 7}"
   ]
  },
  {
   "cell_type": "code",
   "execution_count": 41,
   "metadata": {},
   "outputs": [],
   "source": [
    "df = pd.DataFrame(files, columns=('emotion', 'file_name'))\n",
    "df['emotion_enum'] = df['emotion'].map(emotions)"
   ]
  },
  {
   "cell_type": "code",
   "execution_count": null,
   "metadata": {},
   "outputs": [],
   "source": []
  }
 ],
 "metadata": {
  "kernelspec": {
   "display_name": "Python 3 (ipykernel)",
   "language": "python",
   "name": "python3"
  },
  "language_info": {
   "codemirror_mode": {
    "name": "ipython",
    "version": 3
   },
   "file_extension": ".py",
   "mimetype": "text/x-python",
   "name": "python",
   "nbconvert_exporter": "python",
   "pygments_lexer": "ipython3",
   "version": "3.8.13"
  },
  "toc": {
   "base_numbering": 1,
   "nav_menu": {},
   "number_sections": true,
   "sideBar": true,
   "skip_h1_title": false,
   "title_cell": "Table of Contents",
   "title_sidebar": "Contents",
   "toc_cell": false,
   "toc_position": {},
   "toc_section_display": true,
   "toc_window_display": false
  },
  "vscode": {
   "interpreter": {
    "hash": "fa51865075f8a67c5bde1eaa865fdabb8d405be7013883ef1eed9897620c6db8"
   }
  }
 },
 "nbformat": 4,
 "nbformat_minor": 2
}
